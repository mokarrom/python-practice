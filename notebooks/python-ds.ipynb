{
 "cells": [
  {
   "cell_type": "markdown",
   "metadata": {},
   "source": [
    "# List/Array\n",
    "- mutable\n",
    "- Complexity:\n",
    "    - append(): O(1), \n",
    "    - pop(): O(1)\n",
    "    - pop(i): O(n), \n",
    "    - insert(i): O(n)\n",
    "    - remove(x): O(n)\n",
    "    - in: O(n)\n",
    "- Reference: https://wiki.python.org/moin/TimeComplexity"
   ]
  },
  {
   "cell_type": "code",
   "execution_count": 32,
   "metadata": {},
   "outputs": [
    {
     "name": "stdout",
     "output_type": "stream",
     "text": [
      "#items = 4; first item = 1; last item = 9;  last item = 9\n"
     ]
    }
   ],
   "source": [
    "items = [1, 5, 7, 9]\n",
    "print(f\"#items = {len(items)}; first item = {items[0]}; last item = {items[len(items) - 1]};  last item = {items[-1]}\"); "
   ]
  },
  {
   "cell_type": "code",
   "execution_count": 33,
   "metadata": {},
   "outputs": [
    {
     "name": "stdout",
     "output_type": "stream",
     "text": [
      "items = [1, 5, 7, 9]; items = [1, 5, 7, 9]; items = [5, 7]; items = [5, 7]\n"
     ]
    }
   ],
   "source": [
    "print(f\"items = {items[:]}; items = {items[0:len(items)]}; items = {items[1:3]}; items = {items[-3:-1]}\")"
   ]
  },
  {
   "cell_type": "code",
   "execution_count": 38,
   "metadata": {},
   "outputs": [
    {
     "name": "stdout",
     "output_type": "stream",
     "text": [
      "List: [1, 5, 7]\n",
      "List: [1, 7]\n",
      "List: [1, 3, 7]\n"
     ]
    }
   ],
   "source": [
    "items = [1, 5, 7, 9]\n",
    "items.pop() # remove the last element\n",
    "print(f\"List: {items}\")\n",
    "items.pop(1) # remove the second element\n",
    "print(f\"List: {items}\")\n",
    "items.insert(1, 3)\n",
    "print(f\"List: {items}\")"
   ]
  },
  {
   "cell_type": "code",
   "execution_count": 4,
   "metadata": {},
   "outputs": [
    {
     "name": "stdout",
     "output_type": "stream",
     "text": [
      "Index of 1\n",
      "Max item is located at: 3\n"
     ]
    }
   ],
   "source": [
    "items = [1, 5, 7, 9]\n",
    "print(f\"Index of {items.index(5)}\")\n",
    "print(f\"Max item is located at: {items.index(max(items))}\")"
   ]
  },
  {
   "cell_type": "code",
   "execution_count": 5,
   "metadata": {},
   "outputs": [
    {
     "name": "stdout",
     "output_type": "stream",
     "text": [
      "[0, 0, 0, 0, 0]\n"
     ]
    }
   ],
   "source": [
    "nums = [0] * 5\n",
    "print(nums)"
   ]
  },
  {
   "cell_type": "markdown",
   "metadata": {},
   "source": [
    "## Sort"
   ]
  },
  {
   "cell_type": "code",
   "execution_count": 8,
   "metadata": {},
   "outputs": [
    {
     "name": "stdout",
     "output_type": "stream",
     "text": [
      "[2, 3, 4, 7, 9, 11]\n",
      "[11, 9, 7, 4, 3, 2]\n"
     ]
    }
   ],
   "source": [
    "items = [11, 4, 7, 2, 9, 3]\n",
    "print(sorted(items))\n",
    "items.sort(reverse=True)\n",
    "print(items)"
   ]
  },
  {
   "cell_type": "code",
   "execution_count": 13,
   "metadata": {},
   "outputs": [
    {
     "name": "stdout",
     "output_type": "stream",
     "text": [
      "[[10, 8], [45, 6], [90, 2]]\n",
      "[[50, 'Ross'], [100, 'Monica'], [20, 'Joye']]\n"
     ]
    }
   ],
   "source": [
    "from operator import itemgetter\n",
    "\n",
    "A = [[10, 8], [90, 2], [45, 6]]\n",
    "print(sorted(A, key=itemgetter(0)))\n",
    "\n",
    "B = [[50, 'Ross'], [20, 'Joye'], [100, 'Monica']]\n",
    "print(sorted(B, key=itemgetter(1), reverse=True))"
   ]
  },
  {
   "cell_type": "code",
   "execution_count": 17,
   "metadata": {},
   "outputs": [
    {
     "name": "stdout",
     "output_type": "stream",
     "text": [
      "[[7, 'Cat'], [2, 'Dog'], [0, 'Bird']]\n",
      "[[0, 'Bird'], [7, 'Cat'], [2, 'Dog']]\n"
     ]
    }
   ],
   "source": [
    "A = [[2, 'Dog'], [0, 'Bird'], [7, 'Cat']]\n",
    "print(sorted(A, key=lambda x: x[0], reverse=True))\n",
    "print(sorted(A, key=lambda x: x[1]))"
   ]
  },
  {
   "cell_type": "code",
   "execution_count": 21,
   "metadata": {},
   "outputs": [
    {
     "name": "stdout",
     "output_type": "stream",
     "text": [
      "[[45, 89], [55, 90], [90, 70]]\n"
     ]
    }
   ],
   "source": [
    "A = [[55, 90], [45, 89], [90, 70]]\n",
    "A.sort()\n",
    "print(A)"
   ]
  },
  {
   "cell_type": "markdown",
   "metadata": {},
   "source": [
    "## Loop"
   ]
  },
  {
   "cell_type": "code",
   "execution_count": 5,
   "metadata": {},
   "outputs": [
    {
     "name": "stdout",
     "output_type": "stream",
     "text": [
      "idx=0    val=8\n",
      "idx=1    val=4\n",
      "idx=2    val=7\n",
      "idx=3    val=2\n",
      "idx=4    val=9\n",
      "idx=5    val=3\n"
     ]
    }
   ],
   "source": [
    "items = [8, 4, 7, 2, 9, 3]\n",
    "for idx, val in enumerate(items):\n",
    "    print(f\"idx={idx}    val={val}\")"
   ]
  },
  {
   "cell_type": "code",
   "execution_count": 3,
   "metadata": {},
   "outputs": [
    {
     "name": "stdout",
     "output_type": "stream",
     "text": [
      "2 9 3 "
     ]
    }
   ],
   "source": [
    "items = [8, 4, 7, 2, 9, 3]\n",
    "for idx in range(3, len(items)):\n",
    "    print(items[idx], end=\" \")"
   ]
  },
  {
   "cell_type": "markdown",
   "metadata": {},
   "source": [
    "### Nested for loop"
   ]
  },
  {
   "cell_type": "code",
   "execution_count": 2,
   "metadata": {},
   "outputs": [
    {
     "name": "stdout",
     "output_type": "stream",
     "text": [
      "1 2 3 \n",
      "4 5 6 \n",
      "7 8 9 \n"
     ]
    }
   ],
   "source": [
    "grid = [\n",
    "    [1, 2, 3],\n",
    "    [4, 5, 6],\n",
    "    [7, 8, 9]\n",
    "]\n",
    "for i in range(len(grid)):\n",
    "    for j in range(len(grid[i])):\n",
    "        print(grid[i][j], end=\" \")\n",
    "    print()"
   ]
  },
  {
   "cell_type": "markdown",
   "metadata": {},
   "source": [
    "# Set\n",
    "- No duplicates, good for faster membership check.\n",
    "- in: avg - O(1); Worst - O(n)"
   ]
  },
  {
   "cell_type": "markdown",
   "metadata": {},
   "source": [
    "### Bitwise operation"
   ]
  },
  {
   "cell_type": "code",
   "execution_count": 3,
   "metadata": {},
   "outputs": [
    {
     "name": "stdout",
     "output_type": "stream",
     "text": [
      "{5}\n",
      "{1, 2, 3, 4, 5}\n"
     ]
    }
   ],
   "source": [
    "A = {1, 3, 5}\n",
    "B = {2, 4, 5}\n",
    "print(A & B)\n",
    "print(A | B)"
   ]
  },
  {
   "cell_type": "code",
   "execution_count": 4,
   "metadata": {},
   "outputs": [
    {
     "name": "stdout",
     "output_type": "stream",
     "text": [
      "{'cc'}\n",
      "{'bb', 'aa', 'dd', 'cc', 'ee'}\n"
     ]
    }
   ],
   "source": [
    "S1 = {\"aa\", \"bb\", \"cc\"}\n",
    "S2 = {\"cc\", \"dd\", \"ee\"}\n",
    "print(S1 & S2)\n",
    "print(S1 | S2)"
   ]
  },
  {
   "cell_type": "markdown",
   "metadata": {},
   "source": [
    "# Tuple"
   ]
  },
  {
   "cell_type": "code",
   "execution_count": 8,
   "metadata": {},
   "outputs": [],
   "source": [
    "courses = [(\"CSE-355\", \"Data Communication\"), (\"CSE-345\", \"Operating System\"), (\"CSE-351\", \"Microprocessor\")]"
   ]
  },
  {
   "cell_type": "code",
   "execution_count": 15,
   "metadata": {},
   "outputs": [
    {
     "name": "stdout",
     "output_type": "stream",
     "text": [
      "CSE-345: Operating System\n",
      "CSE-351: Microprocessor\n",
      "CSE-355: Data Communication\n"
     ]
    }
   ],
   "source": [
    "# courses.sort()  # default sort based on first value\n",
    "courses.sort(key=lambda x: x[1], reverse=True)\n",
    "for course_code, course_title in courses:\n",
    "    print(f\"{course_code}: {course_title}\")"
   ]
  },
  {
   "cell_type": "code",
   "execution_count": null,
   "metadata": {},
   "outputs": [],
   "source": [
    "print(\"hi\")"
   ]
  },
  {
   "cell_type": "markdown",
   "metadata": {},
   "source": [
    "- immutable"
   ]
  },
  {
   "cell_type": "markdown",
   "metadata": {},
   "source": [
    "# Dictionary"
   ]
  },
  {
   "cell_type": "code",
   "execution_count": 10,
   "metadata": {},
   "outputs": [
    {
     "name": "stdout",
     "output_type": "stream",
     "text": [
      "Sorted keys: ['a', 'b', 'c', 'd', 'e']\n",
      "Sorted tuples: [('e', 2), ('b', 3), ('d', 4), ('a', 5), ('c', 6)]\n",
      "Sorted Dict: {'c': 6, 'a': 5, 'd': 4, 'b': 3, 'e': 2}\n"
     ]
    }
   ],
   "source": [
    "d = {\"b\": 3, \"e\": 2, \"a\": 5, \"c\": 6, \"d\": 4}\n",
    "print(f\"Sorted keys: {sorted(d)}\")\n",
    "sorted_tuples = sorted(d.items(), key=lambda item: item[1])\n",
    "print(f\"Sorted tuples: {sorted_tuples}\")\n",
    "sorted_dict = {k: v for k, v in sorted(d.items(), key=lambda item: item[1], reverse=True)}\n",
    "print(f\"Sorted Dict: {sorted_dict}\")"
   ]
  },
  {
   "cell_type": "code",
   "execution_count": 6,
   "metadata": {},
   "outputs": [
    {
     "name": "stdout",
     "output_type": "stream",
     "text": [
      "Sorted Dict: OrderedDict([('a', 1), ('b', 2), ('c', 3)])\n"
     ]
    }
   ],
   "source": [
    "from collections import OrderedDict\n",
    "\n",
    "ordered_dict = OrderedDict({\"a\": 1, \"b\": 2, \"c\": 3})\n",
    "print(f\"Sorted Dict: {ordered_dict}\")"
   ]
  },
  {
   "cell_type": "code",
   "execution_count": 17,
   "metadata": {},
   "outputs": [
    {
     "name": "stdout",
     "output_type": "stream",
     "text": [
      "defaultdict(<function <lambda> at 0x7fdfa47fc7a0>, {})\n",
      "bar\n",
      "defaultdict(<function <lambda> at 0x7fdfa47fc7a0>, {'1': 'bar'})\n"
     ]
    }
   ],
   "source": [
    "from collections import defaultdict\n",
    "\n",
    "d = defaultdict(lambda: \"bar\")\n",
    "print(d)\n",
    "print(d[\"1\"])\n",
    "print(d)"
   ]
  },
  {
   "cell_type": "code",
   "execution_count": 2,
   "metadata": {},
   "outputs": [
    {
     "data": {
      "text/plain": [
       "{'a': 1, 'b': 2}"
      ]
     },
     "execution_count": 2,
     "metadata": {},
     "output_type": "execute_result"
    }
   ],
   "source": [
    "d = dict(a=1, b=2)\n",
    "d"
   ]
  },
  {
   "cell_type": "code",
   "execution_count": 21,
   "metadata": {},
   "outputs": [
    {
     "name": "stdout",
     "output_type": "stream",
     "text": [
      "Counter({5: 5, 4: 4, 2: 3, 3: 2})\n",
      "[(5, 5), (4, 4), (2, 3), (3, 2)]\n",
      "[(5, 5)]\n",
      "Counter({'a': 3, 'l': 2, 'g': 1, 'h': 1, 'd': 1})\n",
      "Counter({'b': 2, 'a': 1, 'c': 1})\n"
     ]
    }
   ],
   "source": [
    "from collections import Counter\n",
    "\n",
    "freq_count = Counter([2, 3, 4, 5, 4, 2, 3, 2, 5, 5, 4, 5, 5, 4])\n",
    "print(freq_count)\n",
    "print(freq_count.most_common())\n",
    "print(freq_count.most_common(1))\n",
    "\n",
    "counter = Counter('gallahad')\n",
    "print(counter)\n",
    "\n",
    "counter = Counter({'a': 1, 'b': 2, 'c': 1})\n",
    "print(counter)"
   ]
  },
  {
   "cell_type": "markdown",
   "metadata": {},
   "source": [
    "## Iterator"
   ]
  },
  {
   "cell_type": "markdown",
   "metadata": {},
   "source": [
    " - iterator can only iterate once, further attempts to use it will see no elements. "
   ]
  },
  {
   "cell_type": "code",
   "execution_count": 1,
   "metadata": {},
   "outputs": [],
   "source": [
    "my_itr = iter(()) # an empty iterator"
   ]
  },
  {
   "cell_type": "markdown",
   "metadata": {},
   "source": [
    "# Stack\n",
    "- LIFO - last in first out\n",
    "- Both insertion and deletion at the top"
   ]
  },
  {
   "cell_type": "code",
   "execution_count": 12,
   "metadata": {},
   "outputs": [
    {
     "name": "stdout",
     "output_type": "stream",
     "text": [
      "List: [5, 6]\n",
      "List: [5]\n",
      "List: [5, 7, 8]\n",
      "List: [5]\n"
     ]
    }
   ],
   "source": [
    "stack = [5]\n",
    "stack.append(6)  # add item at the end of list\n",
    "print(f\"List: {stack}\")\n",
    "stack.pop()  # remove the last item.\n",
    "print(f\"List: {stack}\")\n",
    "stack.append(7)\n",
    "stack.append(8)\n",
    "print(f\"List: {stack}\")\n",
    "stack.pop()\n",
    "stack.pop()\n",
    "print(f\"List: {stack}\")"
   ]
  },
  {
   "cell_type": "code",
   "execution_count": null,
   "metadata": {},
   "outputs": [],
   "source": []
  },
  {
   "cell_type": "markdown",
   "metadata": {},
   "source": [
    "# Queue\n",
    "- FIFO - first in first out\n",
    "- Insertion happens at the front but deletion happens at the rear of queue."
   ]
  },
  {
   "cell_type": "code",
   "execution_count": 8,
   "metadata": {},
   "outputs": [
    {
     "name": "stdout",
     "output_type": "stream",
     "text": [
      "List: [5, 6]\n",
      "List: [6]\n",
      "List: [6, 7, 8]\n",
      "List: [8]\n"
     ]
    }
   ],
   "source": [
    "queue = [5]\n",
    "queue.append(6)  # add item at the end of list\n",
    "print(f\"List: {queue}\")\n",
    "queue.pop(0)  # remove the first item.\n",
    "print(f\"List: {queue}\")\n",
    "queue.append(7)\n",
    "queue.append(8)\n",
    "print(f\"List: {queue}\")\n",
    "queue.pop(0)\n",
    "queue.pop(0)\n",
    "print(f\"List: {queue}\")"
   ]
  },
  {
   "cell_type": "markdown",
   "metadata": {},
   "source": [
    "## Deque\n",
    "- Doubly Ended Queue\n",
    "- Good for quicker append and pop operations from both the ends "
   ]
  },
  {
   "cell_type": "code",
   "execution_count": 10,
   "metadata": {},
   "outputs": [
    {
     "name": "stdout",
     "output_type": "stream",
     "text": [
      "deque([2, 3])\n",
      "deque([1, 2, 3, 5])\n",
      "5\n",
      "deque([1, 2, 3])\n",
      "1\n",
      "deque([2, 3])\n"
     ]
    }
   ],
   "source": [
    "from collections import deque\n",
    "\n",
    "queue = deque([2, 3])\n",
    "print(queue)\n",
    "queue.append(5)\n",
    "queue.appendleft(1)\n",
    "print(queue)\n",
    "print(queue.pop())\n",
    "print(queue)\n",
    "print(queue.popleft())\n",
    "print(queue)"
   ]
  },
  {
   "cell_type": "markdown",
   "metadata": {},
   "source": [
    "# heapq - Priorirty Queue"
   ]
  },
  {
   "cell_type": "markdown",
   "metadata": {},
   "source": [
    " - A complete binary tree, min heap, every parent node has a value less than or equal to any of its children. \n",
    " - Array based implementation where heap[k] <= heap[2*k+1] and heap[k] <= heap[2*k+2] for all k.\n",
    " - root - heap[0] - smallest element\n",
    " - **heaps vs priority queue**: Heaps are concrete data structures, whereas priority queues are abstract data structures. An abstract data structure determines the interface, while a concrete data structure defines the implementation. Heaps are commonly used to implement priority queues. "
   ]
  },
  {
   "cell_type": "code",
   "execution_count": 34,
   "metadata": {},
   "outputs": [
    {
     "name": "stdout",
     "output_type": "stream",
     "text": [
      "[1, 2, 3, 5, 6, 8, 7]\n",
      "1\n",
      "2\n",
      "[3, 4, 7, 5, 6, 8]\n"
     ]
    }
   ],
   "source": [
    "import heapq as heap\n",
    "\n",
    "a = [3, 5, 1, 2, 6, 8, 7]\n",
    "heap.heapify(a)\n",
    "print(a)\n",
    "\n",
    "heap.heappush(a, 4)\n",
    "print(heap.heappop(a))\n",
    "print(heap.heappop(a))\n",
    "\n",
    "print(a)"
   ]
  },
  {
   "cell_type": "code",
   "execution_count": null,
   "metadata": {},
   "outputs": [],
   "source": []
  }
 ],
 "metadata": {
  "instance_type": "ml.t3.medium",
  "kernelspec": {
   "display_name": "Python 3 (Data Science)",
   "language": "python",
   "name": "python3__SAGEMAKER_INTERNAL__arn:aws:sagemaker:us-east-1:081325390199:image/datascience-1.0"
  },
  "language_info": {
   "codemirror_mode": {
    "name": "ipython",
    "version": 3
   },
   "file_extension": ".py",
   "mimetype": "text/x-python",
   "name": "python",
   "nbconvert_exporter": "python",
   "pygments_lexer": "ipython3",
   "version": "3.7.10"
  }
 },
 "nbformat": 4,
 "nbformat_minor": 4
}
