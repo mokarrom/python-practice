{
 "cells": [
  {
   "cell_type": "markdown",
   "metadata": {},
   "source": [
    "## List/Array"
   ]
  },
  {
   "cell_type": "code",
   "execution_count": 32,
   "metadata": {},
   "outputs": [
    {
     "name": "stdout",
     "output_type": "stream",
     "text": [
      "#items = 4; first item = 1; last item = 9;  last item = 9\n"
     ]
    }
   ],
   "source": [
    "items = [1, 5, 7, 9]\n",
    "print(f\"#items = {len(items)}; first item = {items[0]}; last item = {items[len(items) - 1]};  last item = {items[-1]}\"); "
   ]
  },
  {
   "cell_type": "code",
   "execution_count": 33,
   "metadata": {},
   "outputs": [
    {
     "name": "stdout",
     "output_type": "stream",
     "text": [
      "items = [1, 5, 7, 9]; items = [1, 5, 7, 9]; items = [5, 7]; items = [5, 7]\n"
     ]
    }
   ],
   "source": [
    "print(f\"items = {items[:]}; items = {items[0:len(items)]}; items = {items[1:3]}; items = {items[-3:-1]}\")"
   ]
  },
  {
   "cell_type": "code",
   "execution_count": 38,
   "metadata": {},
   "outputs": [
    {
     "name": "stdout",
     "output_type": "stream",
     "text": [
      "List: [1, 5, 7]\n",
      "List: [1, 7]\n",
      "List: [1, 3, 7]\n"
     ]
    }
   ],
   "source": [
    "items = [1, 5, 7, 9]\n",
    "items.pop() # remove the last element\n",
    "print(f\"List: {items}\")\n",
    "items.pop(1) # remove the second element\n",
    "print(f\"List: {items}\")\n",
    "items.insert(1, 3)\n",
    "print(f\"List: {items}\")"
   ]
  },
  {
   "cell_type": "code",
   "execution_count": null,
   "metadata": {},
   "outputs": [],
   "source": [
    "items = [1, 5, 7, 9]\n",
    "items.index(5)"
   ]
  },
  {
   "cell_type": "code",
   "execution_count": 18,
   "metadata": {},
   "outputs": [
    {
     "name": "stdout",
     "output_type": "stream",
     "text": [
      "[2, 3, 4, 7, 9, 11]\n",
      "[11, 9, 7, 4, 3, 2]\n"
     ]
    }
   ],
   "source": [
    "items = [11, 4, 7, 2, 9, 3]\n",
    "print(sorted(items))\n",
    "items.sort(reverse=True)\n",
    "print(items)"
   ]
  },
  {
   "cell_type": "markdown",
   "metadata": {},
   "source": [
    "- mutable"
   ]
  },
  {
   "cell_type": "markdown",
   "metadata": {},
   "source": [
    "## Tuple"
   ]
  },
  {
   "cell_type": "code",
   "execution_count": 8,
   "metadata": {},
   "outputs": [],
   "source": [
    "courses = [(\"CSE-355\", \"Data Communication\"), (\"CSE-345\", \"Operating System\"), (\"CSE-351\", \"Microprocessor\")]"
   ]
  },
  {
   "cell_type": "code",
   "execution_count": 15,
   "metadata": {},
   "outputs": [
    {
     "name": "stdout",
     "output_type": "stream",
     "text": [
      "CSE-345: Operating System\n",
      "CSE-351: Microprocessor\n",
      "CSE-355: Data Communication\n"
     ]
    }
   ],
   "source": [
    "# courses.sort()  # default sort based on first value\n",
    "courses.sort(key=lambda x: x[1], reverse=True)\n",
    "for course_code, course_title in courses:\n",
    "    print(f\"{course_code}: {course_title}\")"
   ]
  },
  {
   "cell_type": "code",
   "execution_count": null,
   "metadata": {},
   "outputs": [],
   "source": [
    "print(\"hi\")"
   ]
  },
  {
   "cell_type": "markdown",
   "metadata": {},
   "source": [
    "- immutable"
   ]
  },
  {
   "cell_type": "markdown",
   "metadata": {},
   "source": [
    "## Dictionary"
   ]
  },
  {
   "cell_type": "code",
   "execution_count": 19,
   "metadata": {},
   "outputs": [
    {
     "name": "stdout",
     "output_type": "stream",
     "text": [
      "Sorted keys: ['a', 'b', 'c', 'd', 'e']\n",
      "Sorted Dict: {'c': 6, 'a': 5, 'd': 4, 'b': 3, 'e': 2}\n"
     ]
    }
   ],
   "source": [
    "d = {\"b\": 3, \"e\": 2, \"a\": 5, \"c\": 6, \"d\": 4}\n",
    "print(f\"Sorted keys: {sorted(d)}\")\n",
    "sorted_val = {k: v for k, v in sorted(d.items(), key=lambda item: item[1], reverse=True)}\n",
    "print(f\"Sorted Dict: {sorted_val}\")"
   ]
  },
  {
   "cell_type": "markdown",
   "metadata": {},
   "source": [
    "## Stack"
   ]
  },
  {
   "cell_type": "code",
   "execution_count": 12,
   "metadata": {},
   "outputs": [
    {
     "name": "stdout",
     "output_type": "stream",
     "text": [
      "List: [5, 6]\n",
      "List: [5]\n",
      "List: [5, 7, 8]\n",
      "List: [5]\n"
     ]
    }
   ],
   "source": [
    "stack = [5]\n",
    "stack.append(6)  # add item at the end of list\n",
    "print(f\"List: {stack}\")\n",
    "stack.pop()  # remove the last item.\n",
    "print(f\"List: {stack}\")\n",
    "stack.append(7)\n",
    "stack.append(8)\n",
    "print(f\"List: {stack}\")\n",
    "stack.pop()\n",
    "stack.pop()\n",
    "print(f\"List: {stack}\")"
   ]
  },
  {
   "cell_type": "markdown",
   "metadata": {},
   "source": [
    "## Queue"
   ]
  },
  {
   "cell_type": "code",
   "execution_count": 8,
   "metadata": {},
   "outputs": [
    {
     "name": "stdout",
     "output_type": "stream",
     "text": [
      "List: [5, 6]\n",
      "List: [6]\n",
      "List: [6, 7, 8]\n",
      "List: [8]\n"
     ]
    }
   ],
   "source": [
    "queue = [5]\n",
    "queue.append(6)  # add item at the end of list\n",
    "print(f\"List: {queue}\")\n",
    "queue.pop(0)  # remove the first item.\n",
    "print(f\"List: {queue}\")\n",
    "queue.append(7)\n",
    "queue.append(8)\n",
    "print(f\"List: {queue}\")\n",
    "queue.pop(0)\n",
    "queue.pop(0)\n",
    "print(f\"List: {queue}\")"
   ]
  },
  {
   "cell_type": "code",
   "execution_count": null,
   "metadata": {},
   "outputs": [],
   "source": []
  }
 ],
 "metadata": {
  "instance_type": "ml.t3.medium",
  "kernelspec": {
   "display_name": "Python 3 (Data Science)",
   "language": "python",
   "name": "python3__SAGEMAKER_INTERNAL__arn:aws:sagemaker:us-east-1:081325390199:image/datascience-1.0"
  },
  "language_info": {
   "codemirror_mode": {
    "name": "ipython",
    "version": 3
   },
   "file_extension": ".py",
   "mimetype": "text/x-python",
   "name": "python",
   "nbconvert_exporter": "python",
   "pygments_lexer": "ipython3",
   "version": "3.7.10"
  }
 },
 "nbformat": 4,
 "nbformat_minor": 4
}
